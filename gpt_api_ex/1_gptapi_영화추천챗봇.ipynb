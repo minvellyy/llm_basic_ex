{
 "cells": [
  {
   "cell_type": "markdown",
   "id": "f6f045c1",
   "metadata": {},
   "source": [
    "# openai api key 테스트"
   ]
  },
  {
   "cell_type": "markdown",
   "id": "81d8f272",
   "metadata": {},
   "source": [
    "## API key 로딩"
   ]
  },
  {
   "cell_type": "code",
   "execution_count": 5,
   "id": "d0facbf7",
   "metadata": {},
   "outputs": [],
   "source": [
    "import os\n",
    "from dotenv import load_dotenv\n",
    "from openai import OpenAI\n",
    "load_dotenv(override=True)\n",
    "OPENAI_API_KEY = os.getenv(\"OPENAI_API_KEY\")\n",
    "# print(OPENAI_API_KEY)"
   ]
  },
  {
   "cell_type": "markdown",
   "id": "1cc6394a",
   "metadata": {},
   "source": [
    "## 라이브러리 로딩 및 객체 생성"
   ]
  },
  {
   "cell_type": "code",
   "execution_count": 6,
   "id": "d0289346",
   "metadata": {},
   "outputs": [],
   "source": [
    "from openai import OpenAI\n",
    "# openai api 인증 및 OpenAI 객체 생성\n",
    "client = OpenAI(api_key=OPENAI_API_KEY)\n"
   ]
  },
  {
   "cell_type": "markdown",
   "id": "47da1f6c",
   "metadata": {},
   "source": [
    "## 챗봇 기본"
   ]
  },
  {
   "cell_type": "code",
   "execution_count": 8,
   "id": "38b15799",
   "metadata": {},
   "outputs": [
    {
     "name": "stdout",
     "output_type": "stream",
     "text": [
      "챗봇을 종료합니다.\n"
     ]
    }
   ],
   "source": [
    "messages = []\n",
    "while True:\n",
    "    text = input(\"사용자(종료 : q) >>>\")\n",
    "    # 종료조건\n",
    "    if text.lower() in ['q', 'ㅂ']:\n",
    "        print(\"챗봇을 종료합니다.\")\n",
    "        break\n",
    "    messages.append(\n",
    "        {\n",
    "            \"role\": \"user\",\n",
    "            \"content\": text\n",
    "        })\n",
    "        #gpt 모델 챗 요청\n",
    "    completion = client.chat.completions.create(\n",
    "            model=\"gpt-3.5-turbo\",\n",
    "            messages=messages\n",
    "        )\n",
    "    # 응답 출력\n",
    "    chat_res= completion.choices[0].message.content\n",
    "    messages.append(\n",
    "        {\n",
    "           \"role\": \"assistant\",\n",
    "            \"content\": chat_res\n",
    "        }\n",
    "    )\n",
    "    print(\"messages:\", messages)"
   ]
  },
  {
   "cell_type": "markdown",
   "id": "ee5cd125",
   "metadata": {},
   "source": [
    "장르 코믹, 로맨스 영화, 나이는 20대, 여자고 생각없이 볼 수 있는 킬링타임용 영화추천 부탁해\n",
    "위에서 설명한 "
   ]
  },
  {
   "cell_type": "code",
   "execution_count": 11,
   "id": "f8071b33",
   "metadata": {},
   "outputs": [],
   "source": [
    "## AI GPT 모델 대화 실행 테스트\n",
    "movie_prompt = \"\"\"당신은 영화 추천을 위해 훈련된 고도로 숙련된 AI입니다.\n",
    "내가 입력한 단어 또는 문장을 기반으로 영화를 추천해야 합니다.\n",
    "내가 입력한 단어 또는 문장에는 나의 관심사와 성별, 연령대, 지역 등의 개인정보가 포함될 수 있습니다.\n",
    "내가 어떤 영화의 제목을 입력하면 유사한 장르의 영화를 추천하세요.\n",
    "감독 또는 배우의 이름을 입력하면 그 배우가 참여한 다른 영화를 추천하세요.\n",
    "개인정보를 입력하면 그 그룹에서 인기있는 영화를 추천하세요.\n",
    "영화 추천은 3편~5편을 해주고, 목록 형식으로 추천해주세요.\n",
    "항상 마지막에 `더 많은 정보를 입력하겠습니까?`을 출력해서 영화 추천을 계속 할 지 말지를 결정할 수 있도록 해야 합니다.\n",
    "\"\"\""
   ]
  },
  {
   "cell_type": "code",
   "execution_count": 12,
   "id": "92709437",
   "metadata": {},
   "outputs": [],
   "source": [
    "# chat ai 모델에 요청 및 응답 받기\n",
    "completion = client.chat.completions.create(\n",
    "    model=\"gpt-3.5-turbo\",\n",
    "    messages=[\n",
    "        {\n",
    "            \"role\": \"system\",\n",
    "            \"content\": \"너는 영화 평론가야\"\n",
    "        },\n",
    "        {\n",
    "            \"role\": \"user\",\n",
    "            \"content\": movie_prompt\n",
    "        }\n",
    "    ]\n",
    ")"
   ]
  },
  {
   "cell_type": "markdown",
   "id": "2444b82a",
   "metadata": {},
   "source": [
    "## 개인화된 영화 추천 챗봇\n",
    "- 멀티턴 챗봇\n",
    "- None Stream 형태"
   ]
  },
  {
   "cell_type": "code",
   "execution_count": 13,
   "id": "c7e2bed7",
   "metadata": {},
   "outputs": [
    {
     "name": "stdout",
     "output_type": "stream",
     "text": [
      "20대 여성들이 부담 없이 즐길 수 있는 코미디 로맨스 영화 추천해드립니다:\n",
      "\n",
      "1. **27번의 결혼리허설 (27 Dresses)** - 캐서린 하이글 주연의 재미있고 가벼운 로맨틱 코미디입니다.\n",
      "2. **내가 사랑했던 모든 남자들에게 (To All the Boys I've Loved Before)** - 청소년 로맨스와 가볍고 즐거운 스토리가 매력적인 넷플릭스 영화.\n",
      "3. **내겐 너무 가벼운 그녀 (The Ugly Truth)** - 캐서린 하이글과 제라드 버틀러 주연의 유쾌한 성대결 로맨틱 코미디.\n",
      "4. **라라랜드 (La La Land)** - 음악과 로맨스가 어우러지는 아름답고 로맨틱한 영화.\n",
      "5. **이터널 선샤인 (Eternal Sunshine of the Spotless Mind)** - 조금 독특한 설정이지만, 잊고 싶은 추억을 지우는 과정에서 벌어지는 로맨틱한 이야기입니다.\n",
      "\n",
      "이 영화들은 경쾌하면서도 로맨스 요소가 가미된 영화여서 짧은 시간 동안 마음을 사로잡기에 충분할 거예요.\n",
      "\n",
      "더 많은 정보를 입력하겠습니까?\n",
      "좋습니다! 추가적으로 알고 싶은 내용이나 특정한 필요에 맞춰 다른 영화를 추천해 드릴 수도 있습니다. 예를 들어 특정 배우, 감독, 테마 또는 다른 장르의 영화에 관심이 있다면 말씀해 주세요.\n",
      "\n",
      "더 많은 정보를 입력하겠습니까?\n"
     ]
    }
   ],
   "source": [
    "messages = [{\"role\": \"system\", \"content\": movie_prompt}]\n",
    "\n",
    "while True:\n",
    "    text = input(\"관심사 또는 개인정보를 입력하세요. (종료: 'q'): \")\n",
    "    if text.lower() in ['q', 'ㅂ']:\n",
    "        break\n",
    "\n",
    "    messages.append({\"role\": \"user\", \"content\": text})\n",
    "    response = client.chat.completions.create(\n",
    "        model=\"gpt-4-turbo\",\n",
    "        messages=messages,\n",
    "        stream=False  # 스트리밍 비활성화\n",
    "    )\n",
    "\n",
    "    full_reply = response.choices[0].message.content  # 전체 응답을 한 번에 가져옴\n",
    "    print(full_reply)\n",
    "\n",
    "    messages.append({\"role\": \"assistant\", \"content\": full_reply})"
   ]
  },
  {
   "cell_type": "code",
   "execution_count": null,
   "id": "b69de2b2",
   "metadata": {},
   "outputs": [],
   "source": []
  }
 ],
 "metadata": {
  "kernelspec": {
   "display_name": "llm_env",
   "language": "python",
   "name": "llm_env"
  },
  "language_info": {
   "codemirror_mode": {
    "name": "ipython",
    "version": 3
   },
   "file_extension": ".py",
   "mimetype": "text/x-python",
   "name": "python",
   "nbconvert_exporter": "python",
   "pygments_lexer": "ipython3",
   "version": "3.10.19"
  }
 },
 "nbformat": 4,
 "nbformat_minor": 5
}
